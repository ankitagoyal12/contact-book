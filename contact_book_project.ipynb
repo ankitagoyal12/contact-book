{
  "nbformat": 4,
  "nbformat_minor": 0,
  "metadata": {
    "colab": {
      "provenance": []
    },
    "kernelspec": {
      "name": "python3",
      "display_name": "Python 3"
    },
    "language_info": {
      "name": "python"
    }
  },
  "cells": [
    {
      "cell_type": "code",
      "execution_count": 1,
      "metadata": {
        "colab": {
          "base_uri": "https://localhost:8080/"
        },
        "id": "yLFxbLkCG_RZ",
        "outputId": "ceeff2b8-dfd2-474d-a0d2-c2060fc3535b"
      },
      "outputs": [
        {
          "output_type": "stream",
          "name": "stdout",
          "text": [
            "Hello, Python!\n"
          ]
        }
      ],
      "source": [
        "print(\"Hello, Python!\")\n"
      ]
    },
    {
      "cell_type": "code",
      "source": [
        "name = \"Ankita\"    # text\n",
        "age = 21           # whole number\n",
        "height = 5.3       # decimal\n",
        "is_student = True  # True/False\n",
        "\n",
        "print(name, age, height, is_student)\n"
      ],
      "metadata": {
        "colab": {
          "base_uri": "https://localhost:8080/"
        },
        "id": "kVWhFRPpJP49",
        "outputId": "42f3075b-6e29-41a3-a6e0-4c2cb2f9a513"
      },
      "execution_count": 2,
      "outputs": [
        {
          "output_type": "stream",
          "name": "stdout",
          "text": [
            "Ankita 21 5.3 True\n"
          ]
        }
      ]
    },
    {
      "cell_type": "code",
      "source": [
        "x = 10\n",
        "y = 3\n",
        "\n",
        "print(x + y)   # addition\n",
        "print(x - y)   # subtraction\n",
        "print(x * y)   # multiplication\n",
        "print(x / y)   # division\n",
        "print(x // y)  # whole number division\n",
        "print(x % y)   # remainder\n",
        "print(x ** y)  # power\n"
      ],
      "metadata": {
        "colab": {
          "base_uri": "https://localhost:8080/"
        },
        "id": "AvpWL3lLJiEF",
        "outputId": "c515dab9-dedc-4fca-e963-e0d7173b669a"
      },
      "execution_count": 3,
      "outputs": [
        {
          "output_type": "stream",
          "name": "stdout",
          "text": [
            "13\n",
            "7\n",
            "30\n",
            "3.3333333333333335\n",
            "3\n",
            "1\n",
            "1000\n"
          ]
        }
      ]
    },
    {
      "cell_type": "code",
      "source": [
        "name = input(\"Enter your name: \")\n",
        "age = input(\"Enter your age: \")\n",
        "\n",
        "print(\"Name:\", name)\n",
        "print(\"Age:\", age)\n"
      ],
      "metadata": {
        "colab": {
          "base_uri": "https://localhost:8080/"
        },
        "id": "vfPROviCJlQv",
        "outputId": "d4a56241-9037-43af-8e22-a7351fc31079"
      },
      "execution_count": 4,
      "outputs": [
        {
          "output_type": "stream",
          "name": "stdout",
          "text": [
            "Enter your name: Ankita\n",
            "Enter your age: 21\n",
            "Name: Ankita\n",
            "Age: 21\n"
          ]
        }
      ]
    },
    {
      "cell_type": "code",
      "source": [
        "age = int(input(\"Enter your age: \"))\n",
        "\n",
        "if age >= 18:\n",
        "    print(\"You are an adult.\")\n",
        "else:\n",
        "    print(\"You are not an adult.\")\n"
      ],
      "metadata": {
        "colab": {
          "base_uri": "https://localhost:8080/"
        },
        "id": "L2gqxHprKLZn",
        "outputId": "a6c91d8b-dd72-411c-d0ba-5bb83d045f32"
      },
      "execution_count": 5,
      "outputs": [
        {
          "output_type": "stream",
          "name": "stdout",
          "text": [
            "Enter your age: 21\n",
            "You are an adult.\n"
          ]
        }
      ]
    },
    {
      "cell_type": "code",
      "source": [
        "for i in range(5):\n",
        "    print(\"This is loop number\", i+1)\n"
      ],
      "metadata": {
        "colab": {
          "base_uri": "https://localhost:8080/"
        },
        "id": "Cnxlkg35KPUl",
        "outputId": "67d6869e-1fca-41e6-b192-0719c2ad4f61"
      },
      "execution_count": 8,
      "outputs": [
        {
          "output_type": "stream",
          "name": "stdout",
          "text": [
            "This is loop number 1\n",
            "This is loop number 2\n",
            "This is loop number 3\n",
            "This is loop number 4\n",
            "This is loop number 5\n"
          ]
        }
      ]
    },
    {
      "cell_type": "code",
      "source": [
        "count = 1\n",
        "while count <= 5:\n",
        "    print(\"Count is\", count)\n",
        "    count += 1\n"
      ],
      "metadata": {
        "colab": {
          "base_uri": "https://localhost:8080/"
        },
        "id": "kR-oGk6aKcaW",
        "outputId": "e1171405-18a6-480d-af8a-3f4c4d450412"
      },
      "execution_count": 9,
      "outputs": [
        {
          "output_type": "stream",
          "name": "stdout",
          "text": [
            "Count is 1\n",
            "Count is 2\n",
            "Count is 3\n",
            "Count is 4\n",
            "Count is 5\n"
          ]
        }
      ]
    },
    {
      "cell_type": "code",
      "source": [
        "# Write to a file\n",
        "with open(\"contacts.txt\", \"w\") as file:\n",
        "    file.write(\"Name: Ankita\\n\")\n",
        "    file.write(\"Phone: 1234567890\\n\")\n",
        "print(\"Data saved to contacts.txt\")\n"
      ],
      "metadata": {
        "colab": {
          "base_uri": "https://localhost:8080/"
        },
        "id": "uixZ00MZKuDK",
        "outputId": "14712405-acb0-4eea-884d-bede11d62f2b"
      },
      "execution_count": 10,
      "outputs": [
        {
          "output_type": "stream",
          "name": "stdout",
          "text": [
            "Data saved to contacts.txt\n"
          ]
        }
      ]
    },
    {
      "cell_type": "code",
      "source": [
        "# Read from a file\n",
        "with open(\"contacts.txt\", \"r\") as file:\n",
        "    content = file.read()\n",
        "print(content)\n"
      ],
      "metadata": {
        "colab": {
          "base_uri": "https://localhost:8080/"
        },
        "id": "MJ_ncGcJLZ52",
        "outputId": "9b4b56d8-6e60-4557-a3fc-570675ee004b"
      },
      "execution_count": 11,
      "outputs": [
        {
          "output_type": "stream",
          "name": "stdout",
          "text": [
            "Name: Ankita\n",
            "Phone: 1234567890\n",
            "\n"
          ]
        }
      ]
    },
    {
      "cell_type": "code",
      "source": [
        "name = input(\"Enter name: \")\n",
        "phone = input(\"Enter phone number: \")\n",
        "\n",
        "with open(\"contacts.txt\", \"a\") as file:  # 'a' means append\n",
        "    file.write(f\"Name: {name}\\n\")\n",
        "    file.write(f\"Phone: {phone}\\n\\n\")\n",
        "\n",
        "print(\"Contact added successfully!\")\n"
      ],
      "metadata": {
        "colab": {
          "base_uri": "https://localhost:8080/"
        },
        "id": "SZo-KCCvLcu2",
        "outputId": "4f3d7841-6819-434b-897b-2753c4cbb146"
      },
      "execution_count": 12,
      "outputs": [
        {
          "output_type": "stream",
          "name": "stdout",
          "text": [
            "Enter name: Ashok\n",
            "Enter phone number: 9632587412\n",
            "Contact added successfully!\n"
          ]
        }
      ]
    },
    {
      "cell_type": "code",
      "source": [
        "# Read from a file\n",
        "with open(\"contacts.txt\", \"r\") as file:\n",
        "    content = file.read()\n",
        "print(content)"
      ],
      "metadata": {
        "colab": {
          "base_uri": "https://localhost:8080/"
        },
        "id": "vKdQuKsML1ot",
        "outputId": "37ca8698-915a-4951-df52-bea7c492bc4e"
      },
      "execution_count": 13,
      "outputs": [
        {
          "output_type": "stream",
          "name": "stdout",
          "text": [
            "Name: Ankita\n",
            "Phone: 1234567890\n",
            "Name: Ashok\n",
            "Phone: 9632587412\n",
            "\n",
            "\n"
          ]
        }
      ]
    },
    {
      "cell_type": "code",
      "source": [
        "search_name = input(\"Enter name to search: \")\n",
        "\n",
        "with open(\"contacts.txt\", \"r\") as file:\n",
        "    contacts = file.readlines()\n",
        "\n",
        "found = False\n",
        "for line in contacts:\n",
        "    if search_name.lower() in line.lower():\n",
        "        print(line.strip())\n",
        "        found = True\n",
        "\n",
        "if not found:\n",
        "    print(\"Contact not found.\")\n"
      ],
      "metadata": {
        "colab": {
          "base_uri": "https://localhost:8080/"
        },
        "id": "x7jp3irnL3OG",
        "outputId": "962bca46-3116-42ed-d46c-9fc1157405fb"
      },
      "execution_count": 15,
      "outputs": [
        {
          "output_type": "stream",
          "name": "stdout",
          "text": [
            "Enter name to search: Ashok\n",
            "Name: Ashok\n"
          ]
        }
      ]
    },
    {
      "cell_type": "code",
      "source": [
        "while True:\n",
        "    print(\"\\nContact Book Menu:\")\n",
        "    print(\"1. Add Contact\")\n",
        "    print(\"2. View Contacts\")\n",
        "    print(\"3. Search Contact\")\n",
        "    print(\"4. Exit\")\n",
        "\n",
        "    choice = input(\"Enter your choice (1-4): \")\n",
        "\n",
        "    if choice == \"1\":\n",
        "        name = input(\"Enter name: \")\n",
        "        phone = input(\"Enter phone: \")\n",
        "        with open(\"contacts.txt\", \"a\") as file:\n",
        "            file.write(f\"Name: {name}\\nPhone: {phone}\\n\\n\")\n",
        "        print(\"Contact added!\")\n",
        "    elif choice == \"2\":\n",
        "        with open(\"contacts.txt\", \"r\") as file:\n",
        "            print(\"\\nAll Contacts:\\n\" + file.read())\n",
        "    elif choice == \"3\":\n",
        "        search_name = input(\"Enter name to search: \")\n",
        "        found = False\n",
        "        with open(\"contacts.txt\", \"r\") as file:\n",
        "            for line in file:\n",
        "                if search_name.lower() in line.lower():\n",
        "                    print(line.strip())\n",
        "                    found = True\n",
        "        if not found:\n",
        "            print(\"Contact not found.\")\n",
        "    elif choice == \"4\":\n",
        "        print(\"Exiting...\")\n",
        "        break\n",
        "    else:\n",
        "        print(\"Invalid choice. Try again.\")\n"
      ],
      "metadata": {
        "colab": {
          "base_uri": "https://localhost:8080/"
        },
        "id": "swiEENBYMIHe",
        "outputId": "78850965-3244-4036-8614-f69a34d94d6c"
      },
      "execution_count": 16,
      "outputs": [
        {
          "output_type": "stream",
          "name": "stdout",
          "text": [
            "\n",
            "Contact Book Menu:\n",
            "1. Add Contact\n",
            "2. View Contacts\n",
            "3. Search Contact\n",
            "4. Exit\n",
            "Enter your choice (1-4): 3\n",
            "Enter name to search: Ankita\n",
            "Name: Ankita\n",
            "\n",
            "Contact Book Menu:\n",
            "1. Add Contact\n",
            "2. View Contacts\n",
            "3. Search Contact\n",
            "4. Exit\n",
            "Enter your choice (1-4): 4\n",
            "Exiting...\n"
          ]
        }
      ]
    },
    {
      "cell_type": "code",
      "source": [
        "from google.colab import files\n",
        "files.download(\"contacts.txt\")\n"
      ],
      "metadata": {
        "colab": {
          "base_uri": "https://localhost:8080/",
          "height": 17
        },
        "id": "qy--nsqPM2L1",
        "outputId": "cc7c351a-c597-401c-a25e-57d8ba722f1c"
      },
      "execution_count": 17,
      "outputs": [
        {
          "output_type": "display_data",
          "data": {
            "text/plain": [
              "<IPython.core.display.Javascript object>"
            ],
            "application/javascript": [
              "\n",
              "    async function download(id, filename, size) {\n",
              "      if (!google.colab.kernel.accessAllowed) {\n",
              "        return;\n",
              "      }\n",
              "      const div = document.createElement('div');\n",
              "      const label = document.createElement('label');\n",
              "      label.textContent = `Downloading \"${filename}\": `;\n",
              "      div.appendChild(label);\n",
              "      const progress = document.createElement('progress');\n",
              "      progress.max = size;\n",
              "      div.appendChild(progress);\n",
              "      document.body.appendChild(div);\n",
              "\n",
              "      const buffers = [];\n",
              "      let downloaded = 0;\n",
              "\n",
              "      const channel = await google.colab.kernel.comms.open(id);\n",
              "      // Send a message to notify the kernel that we're ready.\n",
              "      channel.send({})\n",
              "\n",
              "      for await (const message of channel.messages) {\n",
              "        // Send a message to notify the kernel that we're ready.\n",
              "        channel.send({})\n",
              "        if (message.buffers) {\n",
              "          for (const buffer of message.buffers) {\n",
              "            buffers.push(buffer);\n",
              "            downloaded += buffer.byteLength;\n",
              "            progress.value = downloaded;\n",
              "          }\n",
              "        }\n",
              "      }\n",
              "      const blob = new Blob(buffers, {type: 'application/binary'});\n",
              "      const a = document.createElement('a');\n",
              "      a.href = window.URL.createObjectURL(blob);\n",
              "      a.download = filename;\n",
              "      div.appendChild(a);\n",
              "      a.click();\n",
              "      div.remove();\n",
              "    }\n",
              "  "
            ]
          },
          "metadata": {}
        },
        {
          "output_type": "display_data",
          "data": {
            "text/plain": [
              "<IPython.core.display.Javascript object>"
            ],
            "application/javascript": [
              "download(\"download_1537f263-088d-405d-aa61-d490def49c51\", \"contacts.txt\", 62)"
            ]
          },
          "metadata": {}
        }
      ]
    }
  ]
}